{
 "cells": [
  {
   "cell_type": "markdown",
   "id": "e2a0f492-6c24-49b6-8d6b-754cf7531e88",
   "metadata": {},
   "source": [
    "# Data Science Tools and Ecosystem"
   ]
  },
  {
   "cell_type": "markdown",
   "id": "5fdb4cbb-8eeb-4414-bc46-5cf35e2b829f",
   "metadata": {},
   "source": [
    "In this notebook, Data Science Tools and Ecosystem are summarized."
   ]
  },
  {
   "cell_type": "markdown",
   "id": "ae99bfe2-df19-43fa-addc-4974eb6293ee",
   "metadata": {},
   "source": [
    "**Objectives:**\n",
    "* List popular languages for data science\n",
    "* List commonly used libraries by data scientists\n",
    "* List commonly used data science tools\n",
    "* Perform arithmetic operations"
   ]
  },
  {
   "cell_type": "markdown",
   "id": "5d7cacb3-61f0-4e49-a6d2-63f1d5cab413",
   "metadata": {},
   "source": [
    "Some of the popular languages that Data Scientists use are:\n",
    "1. Python\n",
    "2. R\n",
    "3. Java"
   ]
  },
  {
   "cell_type": "markdown",
   "id": "4ac23579-03e1-467f-87fd-da05fbb31f54",
   "metadata": {},
   "source": [
    "Some of the commonly used libraries used by Data Scientists include:\n",
    "1. Matplotlib\n",
    "2. NumPy\n",
    "3. Pandas\n",
    "4. SciPy"
   ]
  },
  {
   "cell_type": "markdown",
   "id": "758c3402-cd63-4e4c-b9fd-2e19207f45d3",
   "metadata": {},
   "source": [
    "| Data Science Tools |\n",
    "| ------------------ |\n",
    "| Apache Spark       |\n",
    "| RStudio            |\n",
    "| Apache Hadoop      |"
   ]
  },
  {
   "cell_type": "markdown",
   "id": "546ad765-09a0-4475-95cb-5a06662413a5",
   "metadata": {},
   "source": [
    "### Below are a few examples of evaluating arithmetic expressions in Python"
   ]
  },
  {
   "cell_type": "code",
   "execution_count": 2,
   "id": "e340d800-e2a7-4a76-83a4-15cb127ab510",
   "metadata": {},
   "outputs": [
    {
     "data": {
      "text/plain": [
       "17"
      ]
     },
     "execution_count": 2,
     "metadata": {},
     "output_type": "execute_result"
    }
   ],
   "source": [
    "#This a simple arithmetic expression to mutiply then add integers\n",
    "(3*4)+5"
   ]
  },
  {
   "cell_type": "code",
   "execution_count": 4,
   "id": "1b6a19c7-1717-4ce7-8035-3648e123457c",
   "metadata": {},
   "outputs": [
    {
     "name": "stdout",
     "output_type": "stream",
     "text": [
      "3.3333333333333335\n"
     ]
    }
   ],
   "source": [
    "#This will convert 200 minutes to hours by diving by 60\n",
    "hours = 200 / 60 \n",
    "print(hours)"
   ]
  },
  {
   "cell_type": "markdown",
   "id": "75c44dc4-aeb6-4888-9f80-6d90b5e28805",
   "metadata": {},
   "source": [
    "## *Author*\n",
    "Uzemefeta Jonathan Okeligho"
   ]
  },
  {
   "cell_type": "code",
   "execution_count": null,
   "id": "a607396c-eff8-4f3e-a135-f3ee55278f33",
   "metadata": {},
   "outputs": [],
   "source": []
  }
 ],
 "metadata": {
  "kernelspec": {
   "display_name": "Python 3 (ipykernel)",
   "language": "python",
   "name": "python3"
  },
  "language_info": {
   "codemirror_mode": {
    "name": "ipython",
    "version": 3
   },
   "file_extension": ".py",
   "mimetype": "text/x-python",
   "name": "python",
   "nbconvert_exporter": "python",
   "pygments_lexer": "ipython3",
   "version": "3.11.7"
  }
 },
 "nbformat": 4,
 "nbformat_minor": 5
}
